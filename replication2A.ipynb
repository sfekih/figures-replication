{
 "cells": [
  {
   "cell_type": "markdown",
   "metadata": {},
   "source": [
    "# ADA : Replication of paper : Friendship and Mobility"
   ]
  },
  {
   "cell_type": "code",
   "execution_count": 1,
   "metadata": {},
   "outputs": [],
   "source": [
    "import os\n",
    "import numpy as np\n",
    "import matplotlib.pyplot as plt\n",
    "import pandas as pd\n",
    "from process_functions import *\n",
    "from visualisation_functions import *"
   ]
  },
  {
   "cell_type": "markdown",
   "metadata": {},
   "source": [
    "## 1) Import needed files :"
   ]
  },
  {
   "cell_type": "code",
   "execution_count": 2,
   "metadata": {},
   "outputs": [],
   "source": [
    "#import checkin dataset for brightkite\n",
    "BRIGHTKITE_CHECKIN_PATH = os.path.join(\"data\",\"loc-brightkite_totalCheckins.txt.gz\")\n",
    "checkin_brightkite=pd.read_csv(BRIGHTKITE_CHECKIN_PATH,compression='gzip',delimiter='\\t',names=[\"User\", \"check-in time\", \"latitude\", \"longitude\",\"location id\"])\n",
    "\n",
    "#import edges dataset for brightkite\n",
    "BRIGHTKITE_EDGES_PATH = os.path.join(\"data\",\"loc-brightkite_edges.txt.gz\")\n",
    "edges_brightkite=pd.read_csv(BRIGHTKITE_EDGES_PATH,compression='gzip',delimiter='\\t',error_bad_lines=False,warn_bad_lines=False,names=[\"following\", \"followed\"])"
   ]
  },
  {
   "cell_type": "code",
   "execution_count": 3,
   "metadata": {},
   "outputs": [],
   "source": [
    "#import checkin dataset for gowalla\n",
    "GOWALLA_CHECKIN_PATH = os.path.join(\"data\",\"loc-gowalla_totalCheckins.txt.gz\")\n",
    "checkin_gowalla=pd.read_csv(GOWALLA_CHECKIN_PATH,compression='gzip',delimiter='\\t',names=[\"User\", \"check-in time\", \"latitude\", \"longitude\",\"location id\"],skipinitialspace=True)                                                                                                                                               \n",
    "\n",
    "#import edges dataset for brightkite\n",
    "GOWALLA_EDGES_PATH = os.path.join(\"data\",\"loc-gowalla_edges.txt.gz\")\n",
    "edges_gowalla=pd.read_csv(GOWALLA_EDGES_PATH,compression='gzip',delimiter='\\t',error_bad_lines=False,warn_bad_lines=False,names=[\"following\", \"followed\"],skipinitialspace=True,index_col=None)"
   ]
  },
  {
   "cell_type": "markdown",
   "metadata": {},
   "source": [
    "## 2) Treating data :"
   ]
  },
  {
   "cell_type": "markdown",
   "metadata": {},
   "source": [
    "After visualising the data, we see that :  \n",
    "- the last column just corresponds to the location id\n",
    "- the first column corresponds to a user : different number corresponds to a different user ==> we will group by the number of the first column in tehe future\n",
    "- second column : date and hour \n",
    "- third and fourth column seem to be latitude and longitude.\n",
    "- by exploring the data we see that sometimes the third and forth column are both equal to 0 : we assume it's an error in the dataset and drop the line"
   ]
  },
  {
   "cell_type": "code",
   "execution_count": 4,
   "metadata": {},
   "outputs": [
    {
     "name": "stdout",
     "output_type": "stream",
     "text": [
      "number of edges for Gowalla 950327\n",
      "number of edges for Brightkite 214078\n",
      "number of users in Gowalla  : 196591\n",
      "number of users in Brightkite  : 58228\n"
     ]
    }
   ],
   "source": [
    "#we divise by 2 because edges are bidimentional\n",
    "print('number of edges for Gowalla',int(0.5*edges_gowalla.shape[0]))\n",
    "print('number of edges for Brightkite',int(0.5*edges_brightkite.shape[0]))\n",
    "\n",
    "# calculate the number of users\n",
    "print(\"number of users in Gowalla  :\",edges_gowalla.groupby('following').count().shape[0])\n",
    "print(\"number of users in Brightkite  :\",edges_brightkite.groupby('following').count().shape[0])"
   ]
  },
  {
   "cell_type": "markdown",
   "metadata": {},
   "source": [
    "$\\Rightarrow$ We see that numbers are the same as the ones givenin the paper"
   ]
  },
  {
   "cell_type": "markdown",
   "metadata": {},
   "source": [
    "* Now we clean our dataset by :  \n",
    "1) Dropping nan values (inf,-inf,not defined number)   \n",
    "2) Dropping aberrant values (values where the latitude isn't in the interval [0,90] and values where the longitude isn't in the interval [-180,180]"
   ]
  },
  {
   "cell_type": "code",
   "execution_count": 5,
   "metadata": {},
   "outputs": [],
   "source": [
    "checkin_brightkite=clean_data(checkin_brightkite)\n",
    "checkin_gowalla=clean_data(checkin_gowalla)"
   ]
  },
  {
   "cell_type": "markdown",
   "metadata": {},
   "source": [
    "* Now we get the number of people that checked in at least once for each dataset"
   ]
  },
  {
   "cell_type": "code",
   "execution_count": 6,
   "metadata": {},
   "outputs": [
    {
     "name": "stdout",
     "output_type": "stream",
     "text": [
      "number of users that checked in at least once in Gowalla 104720\n",
      "number of users that checked in at least once in Brightkite 48533\n"
     ]
    }
   ],
   "source": [
    "print(\"number of users that checked in at least once in Gowalla\",\\\n",
    "      checkin_gowalla.groupby('User')['User'].count().shape[0])\n",
    "print(\"number of users that checked in at least once in Brightkite\",\\\n",
    "      checkin_brightkite.groupby('User')['User'].count().shape[0])"
   ]
  },
  {
   "cell_type": "markdown",
   "metadata": {},
   "source": [
    "### keep only bidirected friendship networks:"
   ]
  },
  {
   "cell_type": "markdown",
   "metadata": {},
   "source": [
    "As said in the paper, \"In Gowalla, the friendships are undirected, ... , we consider Brightkite as an undirected friendship network by only conisdering bi-directional edges\"  \n",
    "$\\Rightarrow$ we need to verify that all Brightkite are bi-directional and omit unidirectional edges:  \n",
    "1) create a new column 'sorted' than has the form :$$ sorted = \\{ min(following,followed) , max(following,followed)\\} $$  \n",
    "2) group by the column 'sorted' and count the number of items : if the result is equal to 2 : the edge is bidirectional and we keep it. Otherwise, we delete it."
   ]
  },
  {
   "cell_type": "code",
   "execution_count": 7,
   "metadata": {},
   "outputs": [
    {
     "name": "stdout",
     "output_type": "stream",
     "text": [
      "number of unidimentional arrays in Brightkite is 0\n",
      "number of unidimentional arrays in Gowalla is 0\n"
     ]
    }
   ],
   "source": [
    "print(\"number of unidimentional arrays in Brightkite is\",nb_unidimentional_arrays(edges_brightkite))\n",
    "print(\"number of unidimentional arrays in Gowalla is\",nb_unidimentional_arrays(edges_gowalla))"
   ]
  },
  {
   "cell_type": "markdown",
   "metadata": {},
   "source": [
    "- no unidimentional edges $\\Rightarrow$ we keep all the edges"
   ]
  },
  {
   "cell_type": "markdown",
   "metadata": {},
   "source": [
    "## 3) Build model :"
   ]
  },
  {
   "cell_type": "markdown",
   "metadata": {},
   "source": [
    "#### i) calculate distance:  \n",
    "To build our model, we begin by using this link ' https://en.wikipedia.org/wiki/Haversine_formula ' : it gives us the conversion between kilometers and degrees.  \n",
    "The paper \"discretizes the world into 25 by 25km cells and defines the home location as the average position of check-ins in the cell with the most check-ins\". However, the way to discretize wasn't mentioned in the paper.  \n",
    "To build our model, we don't just divide our space randomly into squares of 25km x 25km . Instead, we create a method to cretae the best 25km squares in order to have the best approximation possible of the living location.  \n",
    "  \n",
    "#### ii) method find homes :\n",
    "1) divide world into squares of 25x25 km : to do that, we make an assumption that the latitude and longitude lines are perpendicular.  \n",
    "2) get an origin point ($x_0,y_0$). From that point, create a grid of 25x25 km squares.  \n",
    "3) an adress has latitude lat and longitude lon. Its coordinate (x,y) in the grid is calculates as follows:\n",
    "$$\n",
    "x=integer_-value(\\frac{distance(lat1,x_0)}{25}) , \n",
    "y=integer_-value(\\frac{distance(lon1,y_0)}{25})\n",
    "$$\n",
    "  \n",
    "#### iii) distance between homes :\n",
    "after finding the adresses of each user, we just need to add another column to the dataframe  and get the distance between homes.\n",
    "#### iv) get probabilities :\n",
    "To calculate probability of each distance:  \n",
    "1) We round each distance to its nearest integer  \n",
    "2) We calculate the number of times each integer was repeated and divide by the total number of distances"
   ]
  },
  {
   "cell_type": "code",
   "execution_count": 8,
   "metadata": {},
   "outputs": [],
   "source": [
    "final_df_brightkite,plot_df_brightkite=get_distances(edges_brightkite,checkin_brightkite)\n",
    "final_df_gowalla,plot_df_gowalla=get_distances(edges_gowalla,checkin_gowalla)"
   ]
  },
  {
   "cell_type": "code",
   "execution_count": 9,
   "metadata": {},
   "outputs": [
    {
     "data": {
      "text/html": [
       "<div>\n",
       "<style scoped>\n",
       "    .dataframe tbody tr th:only-of-type {\n",
       "        vertical-align: middle;\n",
       "    }\n",
       "\n",
       "    .dataframe tbody tr th {\n",
       "        vertical-align: top;\n",
       "    }\n",
       "\n",
       "    .dataframe thead th {\n",
       "        text-align: right;\n",
       "    }\n",
       "</style>\n",
       "<table border=\"1\" class=\"dataframe\">\n",
       "  <thead>\n",
       "    <tr style=\"text-align: right;\">\n",
       "      <th></th>\n",
       "      <th>following</th>\n",
       "      <th>followed</th>\n",
       "      <th>longitude_following</th>\n",
       "      <th>latitude_following</th>\n",
       "      <th>longitude_followed</th>\n",
       "      <th>latitude_followed</th>\n",
       "      <th>distance</th>\n",
       "    </tr>\n",
       "  </thead>\n",
       "  <tbody>\n",
       "    <tr>\n",
       "      <td>0</td>\n",
       "      <td>0</td>\n",
       "      <td>1</td>\n",
       "      <td>-104.998267</td>\n",
       "      <td>39.801359</td>\n",
       "      <td>-122.352509</td>\n",
       "      <td>37.581496</td>\n",
       "      <td>1525.475064</td>\n",
       "    </tr>\n",
       "    <tr>\n",
       "      <td>1</td>\n",
       "      <td>3</td>\n",
       "      <td>1</td>\n",
       "      <td>-122.436672</td>\n",
       "      <td>37.765057</td>\n",
       "      <td>-122.352509</td>\n",
       "      <td>37.581496</td>\n",
       "      <td>21.737895</td>\n",
       "    </tr>\n",
       "    <tr>\n",
       "      <td>2</td>\n",
       "      <td>4</td>\n",
       "      <td>1</td>\n",
       "      <td>24.945110</td>\n",
       "      <td>60.172059</td>\n",
       "      <td>-122.352509</td>\n",
       "      <td>37.581496</td>\n",
       "      <td>8751.421323</td>\n",
       "    </tr>\n",
       "    <tr>\n",
       "      <td>3</td>\n",
       "      <td>5</td>\n",
       "      <td>1</td>\n",
       "      <td>-122.423123</td>\n",
       "      <td>37.766013</td>\n",
       "      <td>-122.352509</td>\n",
       "      <td>37.581496</td>\n",
       "      <td>21.461988</td>\n",
       "    </tr>\n",
       "    <tr>\n",
       "      <td>4</td>\n",
       "      <td>7</td>\n",
       "      <td>1</td>\n",
       "      <td>-122.353818</td>\n",
       "      <td>37.582396</td>\n",
       "      <td>-122.352509</td>\n",
       "      <td>37.581496</td>\n",
       "      <td>0.152898</td>\n",
       "    </tr>\n",
       "  </tbody>\n",
       "</table>\n",
       "</div>"
      ],
      "text/plain": [
       "   following  followed  longitude_following  latitude_following  \\\n",
       "0          0         1          -104.998267           39.801359   \n",
       "1          3         1          -122.436672           37.765057   \n",
       "2          4         1            24.945110           60.172059   \n",
       "3          5         1          -122.423123           37.766013   \n",
       "4          7         1          -122.353818           37.582396   \n",
       "\n",
       "   longitude_followed  latitude_followed     distance  \n",
       "0         -122.352509          37.581496  1525.475064  \n",
       "1         -122.352509          37.581496    21.737895  \n",
       "2         -122.352509          37.581496  8751.421323  \n",
       "3         -122.352509          37.581496    21.461988  \n",
       "4         -122.352509          37.581496     0.152898  "
      ]
     },
     "execution_count": 9,
     "metadata": {},
     "output_type": "execute_result"
    }
   ],
   "source": [
    "final_df_brightkite.head()"
   ]
  },
  {
   "cell_type": "code",
   "execution_count": 10,
   "metadata": {},
   "outputs": [
    {
     "data": {
      "text/html": [
       "<div>\n",
       "<style scoped>\n",
       "    .dataframe tbody tr th:only-of-type {\n",
       "        vertical-align: middle;\n",
       "    }\n",
       "\n",
       "    .dataframe tbody tr th {\n",
       "        vertical-align: top;\n",
       "    }\n",
       "\n",
       "    .dataframe thead th {\n",
       "        text-align: right;\n",
       "    }\n",
       "</style>\n",
       "<table border=\"1\" class=\"dataframe\">\n",
       "  <thead>\n",
       "    <tr style=\"text-align: right;\">\n",
       "      <th></th>\n",
       "      <th>distance</th>\n",
       "      <th>probability</th>\n",
       "    </tr>\n",
       "  </thead>\n",
       "  <tbody>\n",
       "    <tr>\n",
       "      <td>0</td>\n",
       "      <td>0.0</td>\n",
       "      <td>0.017235</td>\n",
       "    </tr>\n",
       "    <tr>\n",
       "      <td>1</td>\n",
       "      <td>1.0</td>\n",
       "      <td>0.044179</td>\n",
       "    </tr>\n",
       "    <tr>\n",
       "      <td>2</td>\n",
       "      <td>2.0</td>\n",
       "      <td>0.036879</td>\n",
       "    </tr>\n",
       "    <tr>\n",
       "      <td>3</td>\n",
       "      <td>3.0</td>\n",
       "      <td>0.028168</td>\n",
       "    </tr>\n",
       "    <tr>\n",
       "      <td>4</td>\n",
       "      <td>4.0</td>\n",
       "      <td>0.021833</td>\n",
       "    </tr>\n",
       "  </tbody>\n",
       "</table>\n",
       "</div>"
      ],
      "text/plain": [
       "   distance  probability\n",
       "0       0.0     0.017235\n",
       "1       1.0     0.044179\n",
       "2       2.0     0.036879\n",
       "3       3.0     0.028168\n",
       "4       4.0     0.021833"
      ]
     },
     "execution_count": 10,
     "metadata": {},
     "output_type": "execute_result"
    }
   ],
   "source": [
    "plot_df_brightkite.head()"
   ]
  },
  {
   "cell_type": "code",
   "execution_count": 11,
   "metadata": {},
   "outputs": [
    {
     "data": {
      "text/html": [
       "<div>\n",
       "<style scoped>\n",
       "    .dataframe tbody tr th:only-of-type {\n",
       "        vertical-align: middle;\n",
       "    }\n",
       "\n",
       "    .dataframe tbody tr th {\n",
       "        vertical-align: top;\n",
       "    }\n",
       "\n",
       "    .dataframe thead th {\n",
       "        text-align: right;\n",
       "    }\n",
       "</style>\n",
       "<table border=\"1\" class=\"dataframe\">\n",
       "  <thead>\n",
       "    <tr style=\"text-align: right;\">\n",
       "      <th></th>\n",
       "      <th>following</th>\n",
       "      <th>followed</th>\n",
       "      <th>longitude_following</th>\n",
       "      <th>latitude_following</th>\n",
       "      <th>longitude_followed</th>\n",
       "      <th>latitude_followed</th>\n",
       "      <th>distance</th>\n",
       "    </tr>\n",
       "  </thead>\n",
       "  <tbody>\n",
       "    <tr>\n",
       "      <td>0</td>\n",
       "      <td>0</td>\n",
       "      <td>1</td>\n",
       "      <td>-97.751992</td>\n",
       "      <td>30.263260</td>\n",
       "      <td>-0.746831</td>\n",
       "      <td>45.202484</td>\n",
       "      <td>8186.082572</td>\n",
       "    </tr>\n",
       "    <tr>\n",
       "      <td>1</td>\n",
       "      <td>2</td>\n",
       "      <td>1</td>\n",
       "      <td>-122.264250</td>\n",
       "      <td>37.849957</td>\n",
       "      <td>-0.746831</td>\n",
       "      <td>45.202484</td>\n",
       "      <td>9093.475697</td>\n",
       "    </tr>\n",
       "    <tr>\n",
       "      <td>2</td>\n",
       "      <td>9</td>\n",
       "      <td>1</td>\n",
       "      <td>-94.736759</td>\n",
       "      <td>38.915752</td>\n",
       "      <td>-0.746831</td>\n",
       "      <td>45.202484</td>\n",
       "      <td>7340.996871</td>\n",
       "    </tr>\n",
       "    <tr>\n",
       "      <td>3</td>\n",
       "      <td>52</td>\n",
       "      <td>1</td>\n",
       "      <td>-97.754978</td>\n",
       "      <td>30.266998</td>\n",
       "      <td>-0.746831</td>\n",
       "      <td>45.202484</td>\n",
       "      <td>8186.007118</td>\n",
       "    </tr>\n",
       "    <tr>\n",
       "      <td>4</td>\n",
       "      <td>53</td>\n",
       "      <td>1</td>\n",
       "      <td>-122.475128</td>\n",
       "      <td>37.681519</td>\n",
       "      <td>-0.746831</td>\n",
       "      <td>45.202484</td>\n",
       "      <td>9119.637513</td>\n",
       "    </tr>\n",
       "  </tbody>\n",
       "</table>\n",
       "</div>"
      ],
      "text/plain": [
       "   following  followed  longitude_following  latitude_following  \\\n",
       "0          0         1           -97.751992           30.263260   \n",
       "1          2         1          -122.264250           37.849957   \n",
       "2          9         1           -94.736759           38.915752   \n",
       "3         52         1           -97.754978           30.266998   \n",
       "4         53         1          -122.475128           37.681519   \n",
       "\n",
       "   longitude_followed  latitude_followed     distance  \n",
       "0           -0.746831          45.202484  8186.082572  \n",
       "1           -0.746831          45.202484  9093.475697  \n",
       "2           -0.746831          45.202484  7340.996871  \n",
       "3           -0.746831          45.202484  8186.007118  \n",
       "4           -0.746831          45.202484  9119.637513  "
      ]
     },
     "execution_count": 11,
     "metadata": {},
     "output_type": "execute_result"
    }
   ],
   "source": [
    "final_df_gowalla.head()"
   ]
  },
  {
   "cell_type": "code",
   "execution_count": 12,
   "metadata": {},
   "outputs": [
    {
     "data": {
      "text/html": [
       "<div>\n",
       "<style scoped>\n",
       "    .dataframe tbody tr th:only-of-type {\n",
       "        vertical-align: middle;\n",
       "    }\n",
       "\n",
       "    .dataframe tbody tr th {\n",
       "        vertical-align: top;\n",
       "    }\n",
       "\n",
       "    .dataframe thead th {\n",
       "        text-align: right;\n",
       "    }\n",
       "</style>\n",
       "<table border=\"1\" class=\"dataframe\">\n",
       "  <thead>\n",
       "    <tr style=\"text-align: right;\">\n",
       "      <th></th>\n",
       "      <th>distance</th>\n",
       "      <th>probability</th>\n",
       "    </tr>\n",
       "  </thead>\n",
       "  <tbody>\n",
       "    <tr>\n",
       "      <td>0</td>\n",
       "      <td>0.0</td>\n",
       "      <td>0.031069</td>\n",
       "    </tr>\n",
       "    <tr>\n",
       "      <td>1</td>\n",
       "      <td>1.0</td>\n",
       "      <td>0.088492</td>\n",
       "    </tr>\n",
       "    <tr>\n",
       "      <td>2</td>\n",
       "      <td>2.0</td>\n",
       "      <td>0.059091</td>\n",
       "    </tr>\n",
       "    <tr>\n",
       "      <td>3</td>\n",
       "      <td>3.0</td>\n",
       "      <td>0.035930</td>\n",
       "    </tr>\n",
       "    <tr>\n",
       "      <td>4</td>\n",
       "      <td>4.0</td>\n",
       "      <td>0.024160</td>\n",
       "    </tr>\n",
       "  </tbody>\n",
       "</table>\n",
       "</div>"
      ],
      "text/plain": [
       "   distance  probability\n",
       "0       0.0     0.031069\n",
       "1       1.0     0.088492\n",
       "2       2.0     0.059091\n",
       "3       3.0     0.035930\n",
       "4       4.0     0.024160"
      ]
     },
     "execution_count": 12,
     "metadata": {},
     "output_type": "execute_result"
    }
   ],
   "source": [
    "plot_df_gowalla.head()"
   ]
  },
  {
   "cell_type": "markdown",
   "metadata": {},
   "source": [
    "## 4) visualization:\n",
    "We plot the raw data"
   ]
  },
  {
   "cell_type": "code",
   "execution_count": 13,
   "metadata": {},
   "outputs": [
    {
     "data": {
      "image/png": "[encoded data removed]",
      "text/plain": [
       "<Figure size 432x288 with 1 Axes>"
      ]
     },
     "metadata": {
      "needs_background": "light"
     },
     "output_type": "display_data"
    }
   ],
   "source": [
    "plt.loglog(plot_df_brightkite['distance'],plot_df_brightkite['probability'],label='Brightkite')\n",
    "plt.legend()\n",
    "plt.loglog(plot_df_gowalla['distance'],plot_df_gowalla['probability'],label='Brightkite')\n",
    "plt.legend()\n",
    "\n",
    "plt.xlabel('distance between homes (km)')\n",
    "plt.ylabel('probability')\n",
    "plt.title('Distribution of homes between friends (raw data)')\n",
    "plt.show()"
   ]
  },
  {
   "cell_type": "markdown",
   "metadata": {},
   "source": [
    "- We see the the curves aren't smooth and are not easy to interpret $\\Rightarrow$ we clean them.  \n",
    "- We create two functions that will help us have a beautiful plot:  \n",
    "1) function 'less points' so that we decreqsde noise when distances are big  \n",
    "2) function 'smooth curve' by taking moving median of each point and avoid abberant values"
   ]
  },
  {
   "cell_type": "code",
   "execution_count": 26,
   "metadata": {},
   "outputs": [
    {
     "data": {
      "image/png": "[encoded data removed]",
      "text/plain": [
       "<Figure size 432x288 with 1 Axes>"
      ]
     },
     "metadata": {
      "needs_background": "light"
     },
     "output_type": "display_data"
    }
   ],
   "source": [
    "N=50\n",
    "cut_int=30\n",
    "where_begin=200\n",
    "#set markers style to do like paper and plot\n",
    "ax0=plt.gca()\n",
    "\n",
    "marker_style_brightkite = dict(color='blue', linestyle=':', marker='o',markersize=12,fillstyle='none')\n",
    "plt.loglog(less_points(plot_df_brightkite['distance'],cut_int),\\\n",
    "           apply_median(less_points(plot_df_brightkite['probability'],cut_int,where_begin),N),\\\n",
    "           markevery=0.03, **marker_style_brightkite,label='Brightkite')\n",
    "plt.legend()\n",
    "\n",
    "plt.loglog(less_points(plot_df_gowalla['distance'],cut_int),\\\n",
    "           apply_median(less_points(plot_df_gowalla['probability'],cut_int,where_begin),N),\\\n",
    "           marker=(6, 2, 0),markevery=0.03,color='r',markersize=11,linestyle=':',label='Gowalla')\n",
    "plt.legend()\n",
    "\n",
    "#set xlimit to do like paper\n",
    "plt.xlim(left=0.9,right=10**5)\n",
    "plt.ylim(10**-6,1)\n",
    "\n",
    "plt.xlabel('distance between homes (km)')\n",
    "plt.ylabel('probability')\n",
    "plt.title('Distribution of homes between friends (smoothed)')\n",
    "plt.show()"
   ]
  },
  {
   "cell_type": "code",
   "execution_count": null,
   "metadata": {},
   "outputs": [],
   "source": []
  }
 ],
 "metadata": {
  "kernelspec": {
   "display_name": "Python 3",
   "language": "python",
   "name": "python3"
  },
  "language_info": {
   "codemirror_mode": {
    "name": "ipython",
    "version": 3
   },
   "file_extension": ".py",
   "mimetype": "text/x-python",
   "name": "python",
   "nbconvert_exporter": "python",
   "pygments_lexer": "ipython3",
   "version": "3.7.4"
  }
 },
 "nbformat": 4,
 "nbformat_minor": 2
}
