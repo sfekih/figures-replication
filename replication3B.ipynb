{
  "nbformat": 4,
  "nbformat_minor": 0,
  "metadata": {
    "colab": {
      "name": "replication_reportP4.ipynb",
      "provenance": [],
      "collapsed_sections": []
    },
    "kernelspec": {
      "display_name": "Python 3",
      "language": "python",
      "name": "python3"
    },
    "language_info": {
      "codemirror_mode": {
        "name": "ipython",
        "version": 3
      },
      "file_extension": ".py",
      "mimetype": "text/x-python",
      "name": "python",
      "nbconvert_exporter": "python",
      "pygments_lexer": "ipython3",
      "version": "3.7.4"
    }
  },
  "cells": [
    {
      "cell_type": "code",
      "metadata": {
        "id": "If2f65jC73w4"
      },
      "source": [
        "import os\n",
        "import numpy as np\n",
        "import matplotlib.pyplot as plt\n",
        "import pandas as pd\n",
        "from scipy.interpolate import interp1d\n"
      ],
      "execution_count": null,
      "outputs": []
    },
    {
      "cell_type": "code",
      "metadata": {
        "colab": {
          "base_uri": "https://localhost:8080/"
        },
        "id": "MosGLpb773w4",
        "outputId": "fdfa5488-6481-4345-b014-c460ff90ffdd"
      },
      "source": [
        "from google.colab import drive\n",
        "drive.mount ('/content/drive')"
      ],
      "execution_count": null,
      "outputs": [
        {
          "output_type": "stream",
          "text": [
            "Drive already mounted at /content/drive; to attempt to forcibly remount, call drive.mount(\"/content/drive\", force_remount=True).\n"
          ],
          "name": "stdout"
        }
      ]
    },
    {
      "cell_type": "code",
      "metadata": {
        "colab": {
          "base_uri": "https://localhost:8080/"
        },
        "id": "bQEIws9v8Nbk",
        "outputId": "90fe6b58-f6be-45cc-e2fd-e64c2164dbbe"
      },
      "source": [
        "cd \"drive/My Drive/Colab Notebooks/ADA_replication_P4\""
      ],
      "execution_count": null,
      "outputs": [
        {
          "output_type": "stream",
          "text": [
            "/content/drive/My Drive/Colab Notebooks/ADA_replication_P4\n"
          ],
          "name": "stdout"
        }
      ]
    },
    {
      "cell_type": "code",
      "metadata": {
        "id": "mDLMe7FQ8Ec8"
      },
      "source": [
        "from process_functions import *"
      ],
      "execution_count": null,
      "outputs": []
    },
    {
      "cell_type": "markdown",
      "metadata": {
        "id": "LmxjMSrF73w4"
      },
      "source": [
        "### General overview:\n",
        "- In this replication, the main problem was the memory management (and Pnull).  \n",
        "- I worked with google colab (12gb ram) since my personal computer was too slow (8gb ram and hard disk hdd).  \n",
        "- I tried to make the most optimized code possible in order to use the most possible of the data.  \n",
        "- With this procedure, I could use all of the data.  \n",
        "Some choices had to be made and I preffered to have a bad time complexity in order to prioritize space complexity.  \n",
        "- There is not much visualizations of the dataframe as all the code is made in functions that call each other in order to take the least possible memory\n",
        "- I chose to keep the main function on the notebook (`get_final_df`, `get_Pdata`,`get_Pnull`). Other functions used can be found in the file `process_functions.py`\n",
        "\n",
        "### General informations about code:\n",
        "- `get_final_df` is the main function : it is the function I call and it returns the needed vectors to do my plots.\n",
        "- `get_Pnull` is the function I call to have Pnull\n",
        "- `get_Pdata` is the function I call to have Pnull\n",
        "- `get_Pnull` and `get_Pdata` both return a tuple (distance , y vector)\n",
        "- `process_functions.py` contains functions I already used for P2 and new functions coded for P4\n",
        "- New functions coded for P4 in the file `process_functions.py`:  \n",
        "1) `get_dist_from_home` : used to compute the distance between checkin and home of each user. This is where I load the checkin_dataframe. This function then returns two separate dataframes used to compute Pnull and Pdata  \n",
        "2) `Bool_visited_friend` : function that returns a boolean : used in an aggregation after a groupby in `get_Pdata`  \n",
        "3) `apply_median` : apply moving median on vector in order to smooth curve  \n",
        "4) `get_approximation` : used to interpolate values for plotting curves. Calls `apply_median` and returns a vector ready to be plotted\n"
      ]
    },
    {
      "cell_type": "code",
      "metadata": {
        "id": "FpL31LOxnJQ5"
      },
      "source": [
        "#get paths\n",
        "BRIGHTKITE_CHECKIN_PATH = os.path.join(\"data\",\"loc-brightkite_totalCheckins.txt.gz\")\n",
        "BRIGHTKITE_EDGES_PATH = os.path.join(\"data\",\"loc-brightkite_edges.txt.gz\")\n",
        "GOWALLA_CHECKIN_PATH = os.path.join(\"data\",\"loc-gowalla_totalCheckins.txt.gz\")\n",
        "GOWALLA_EDGES_PATH = os.path.join(\"data\",\"loc-gowalla_edges.txt.gz\")\n"
      ],
      "execution_count": null,
      "outputs": []
    },
    {
      "cell_type": "code",
      "metadata": {
        "id": "APnbp8Un73w4"
      },
      "source": [
        "def get_Pnull (homes_checkins_df):\n",
        "    \"\"\"\n",
        "    function that returns Pnull\n",
        "    Since there was no much hints on how to compute Pnull, I chose the following method:\n",
        "    i) Compute total number of checkins for a given latitude and longitude (counts_tot)\n",
        "    ii) Compute total number of checkins for a givendistance from home, latitude and longitude (counts_each)\n",
        "    iii) Merge two dataframes (counts_tot and counts_each) on their latitude and logitude \n",
        "    iv) Groupby distance and compute fraction of counts_each/total of counts_tot\n",
        "    \"\"\"\n",
        "    df=homes_checkins_df\n",
        "    #'User x' is used for the count, then we rename it to a meaningful name\n",
        "    counts_lon_lat_only=df.groupby(['checkin latitude x','checkin longitude x'],as_index=False).\\\n",
        "              count()[['checkin longitude x','checkin latitude x','User x']].\\\n",
        "              rename(columns={'User x':'counts each'})\n",
        "    counts_lon_lat_dist=df.groupby(['distance from home x(km)','checkin latitude x','checkin longitude x'],as_index=False).\\\n",
        "                count() [['User x','distance from home x(km)','checkin longitude x','checkin latitude x']].\\\n",
        "                rename(columns={'User x':'counts tot'})\n",
        "\n",
        "    #We work with the same dataframe in order to preserve memory and work inplace\n",
        "    counts_each=pd.merge(counts_lon_lat_dist,counts_lon_lat_only,on=['checkin latitude x','checkin longitude x'])\n",
        "    \n",
        "    #compute the probability    \n",
        "    tmp=counts_each.groupby('distance from home x(km)',as_index=False).sum().sort_values(by='distance from home x(km)')\n",
        "\n",
        "    return tmp['distance from home x(km)'],tmp['counts each']/sum(tmp['counts tot'])\n",
        "\n",
        "\n",
        "def get_Pdata (homes_df,homes_checkins_df,edges_df,numb_pieces=50):\n",
        "    \"\"\"\n",
        "    I) Merge the three datasets : homes_df, edges_df, dist_from_home_df together\n",
        "    Since the merge takes much memory, we proceed by chunks \n",
        "    The parameter numb_pieces lets us specify the number of number of chunks we want to work with\n",
        "    For each chunk, we do 2 merges:\n",
        "    i) merge distance from home dataframe with the edges \n",
        "    ii) merge with the dataframe that contains the homes of users\n",
        "\n",
        "    II) Return different columns of the dataframe depending on the needed columns:\n",
        "    For Pdata : we only need 3 columns :'distance from home x(km)','x in y home','User x_x'\n",
        "\n",
        "    \n",
        "    III) For each distance and for for each user, the user either visited a friend or not\n",
        "    ==> We first groupby those two columns\n",
        "    Once we know whether a certain user and for a certain distance did visit or not a friend,\n",
        "    we groupby the distance only and we divide the number of visits to friends by the total number of checkins to get the Pdata\n",
        "\n",
        "    Pdata corresponds to the ratio of the number of checkins for each user divided by the total number of checkins\n",
        "    \"\"\"\n",
        "    df1=pd.DataFrame()\n",
        "    length_pieces=homes_checkins_df.shape[0]//numb_pieces\n",
        "\n",
        "    for i in range (numb_pieces):\n",
        "        tmp=pd.merge(homes_checkins_df[length_pieces*i:length_pieces*(i+1)],edges_df,on='User x').\\\n",
        "               merge(homes_df,left_on='User y',right_on='User x').\\\n",
        "               rename(columns={'longitude home x': 'longitude home y','latitude home x':'latitude home y','User x_x':'numb checkins'})\\\n",
        "               [['checkin latitude x','checkin longitude x','latitude home y','longitude home y','distance from home x(km)','numb checkins']]\n",
        "        #returns True or False, will be used as 0/1 after\n",
        "        tmp['x in y home']=calculate_distance (tmp['checkin latitude x'],tmp['checkin longitude x'],tmp['latitude home y'],tmp['longitude home y'])<=25\n",
        "\n",
        "        df1=df1.append(tmp[['distance from home x(km)','x in y home','User x_x']])\n",
        "    #df1=merge_and_return(homes_df,homes_checkins_df,edges_df,numb_pieces=100)\n",
        "    df1=df1.groupby(['User x_x','distance from home x(km)'],as_index=False).agg({'x in y home':Bool_visited_friend},axis='columns').\\\n",
        "                          groupby('distance from home x(km)',as_index=False).agg({'x in y home':'sum','numb checkins':'size'},axis='columns').\\\n",
        "                          sort_values(by='distance from home x(km)')\n",
        "    print('finished Pdata')\n",
        "    return df1['distance from home x(km)'],df1['x in y home']/df1['numb checkins']\n",
        "\n",
        "def get_final_df (CHECKIN_PATH, EDGES_PATH):\n",
        "    \"\"\"\n",
        "    main function\n",
        "    INPUTS:\n",
        "    data paths : checkin path and edges path\n",
        "    OUTPUTS:\n",
        "    The three needed vectors needed to plot\n",
        "    1) distances vector: will be x-axis\n",
        "    2) Pdata vector\n",
        "    3) Pnull vector\n",
        "    The output is of this form : ((distances vector Pdata,Pdata vector),(distances vector Pnull,Pnull vector))\n",
        "    \"\"\"\n",
        "    #names of the columns\n",
        "    names_edges=[\"User x\", \"User y\"]\n",
        "    names_checkin=[\"User\", \"check-in time\", \"latitude\", \"longitude\",\"location id\"]\n",
        "\n",
        "    #import edges dataset\n",
        "    edges_df=pd.read_csv(EDGES_PATH,compression='gzip',delimiter='\\t',error_bad_lines=False,warn_bad_lines=False,names=names_edges,skipinitialspace=True,index_col=None).astype(int)\n",
        "\n",
        "    #call 'get_dist_from_home' (function can be found in process_functions.py)\n",
        "    homes_df,homes_checkins_df=get_dist_from_home(CHECKIN_PATH,names_checkin)\n",
        "    \n",
        "    return get_Pdata(homes_df,homes_checkins_df,edges_df),get_Pnull(homes_checkins_df)\n"
      ],
      "execution_count": null,
      "outputs": []
    },
    {
      "cell_type": "code",
      "metadata": {
        "colab": {
          "base_uri": "https://localhost:8080/"
        },
        "id": "epw5Qysic7ri",
        "outputId": "901fc77e-490c-4943-97ff-b4331d3ed76b"
      },
      "source": [
        "P_data_gowalla_vectors,P_null_gowalla_vectors=get_final_df(GOWALLA_CHECKIN_PATH,GOWALLA_EDGES_PATH)"
      ],
      "execution_count": null,
      "outputs": [
        {
          "output_type": "stream",
          "text": [
            "finished Pdata\n"
          ],
          "name": "stdout"
        }
      ]
    },
    {
      "cell_type": "code",
      "metadata": {
        "colab": {
          "base_uri": "https://localhost:8080/"
        },
        "id": "8pM1t2yzKw8Q",
        "outputId": "462d6bdf-a620-400c-f0f4-64a1fcb37ea5"
      },
      "source": [
        "P_data_brightkite_vectors,P_null_brightkite_vectors=get_final_df(BRIGHTKITE_CHECKIN_PATH,BRIGHTKITE_EDGES_PATH)"
      ],
      "execution_count": null,
      "outputs": [
        {
          "output_type": "stream",
          "text": [
            "finished Pdata\n"
          ],
          "name": "stdout"
        }
      ]
    },
    {
      "cell_type": "code",
      "metadata": {
        "id": "65DYXXC5KdSt"
      },
      "source": [
        "distances_log=np.logspace(np.log10(25),4.05,17)\n"
      ],
      "execution_count": null,
      "outputs": []
    },
    {
      "cell_type": "code",
      "metadata": {
        "colab": {
          "base_uri": "https://localhost:8080/",
          "height": 316
        },
        "id": "HA-wl7P-JJzF",
        "outputId": "aa36d8f7-612d-4282-c606-2961aef85b41"
      },
      "source": [
        "# Gowalla\n",
        "marker_style_gowalla = dict(color='r', linestyle=':', marker=(6, 2, 0),markersize=12)\n",
        "\n",
        "P_data_gowalla_approx=get_approximation(P_data_gowalla_vectors[0],P_data_gowalla_vectors[1],distances_log,N=4)\n",
        "plt.loglog(distances_log,P_data_gowalla_approx,\\\n",
        "           **marker_style_gowalla,markevery=0.03,label='Pdata Gowalla')\n",
        "plt.legend()\n",
        "P_null_gowalla_approx=get_approximation(P_null_gowalla_vectors[0],P_null_gowalla_vectors[1],distances_log,N=2)\n",
        "plt.loglog(distances_log,P_null_gowalla_approx,\\\n",
        "           **marker_style_gowalla,markevery=0.03,label='Pnull Gowalla')\n",
        "plt.legend()\n",
        "\n",
        "# Brightkite\n",
        "marker_style_brightkite = dict(color='blue', linestyle=':', marker='o',markersize=12,fillstyle='none')\n",
        "\n",
        "P_data_brightkite_approx=get_approximation(P_data_brightkite_vectors[0],P_data_brightkite_vectors[1],distances_log,kind='nearest',N=4)\n",
        "plt.loglog(distances_log,P_data_brightkite_approx,\\\n",
        "           markevery=0.01, **marker_style_brightkite,label='Pdata Brightkite')\n",
        "plt.legend()\n",
        "P_null_brightkite_approx=get_approximation(P_null_brightkite_vectors[0],P_null_brightkite_vectors[1],distances_log,N=2)\n",
        "plt.loglog(distances_log,P_null_brightkite_approx,\\\n",
        "           markevery=0.01, **marker_style_brightkite,label='Pnull Brightkite')\n",
        "plt.legend()\n",
        "\n",
        "plt.xlabel('distances (km)')\n",
        "plt.ylabel('fractions')\n",
        "plt.title('Pdata and Pnull as a function of the distance')"
      ],
      "execution_count": null,
      "outputs": [
        {
          "output_type": "execute_result",
          "data": {
            "text/plain": [
              "Text(0.5, 1.0, 'Pdata and Pnull of each dataframe as a function of the distance')"
            ]
          },
          "metadata": {
            "tags": []
          },
          "execution_count": 220
        },
        {
          "output_type": "display_data",
          "data": {
            "image/png": "[encoded data removed]",
            "text/plain": [
              "<Figure size 432x288 with 1 Axes>"
            ]
          },
          "metadata": {
            "tags": [],
            "needs_background": "light"
          }
        }
      ]
    },
    {
      "cell_type": "code",
      "metadata": {
        "colab": {
          "base_uri": "https://localhost:8080/",
          "height": 316
        },
        "id": "YfWm0DI-ZU9Z",
        "outputId": "b5f67e47-b5f7-46cc-c0f7-07c92b9aa7b7"
      },
      "source": [
        "plt.loglog(distances_log,apply_median(P_data_brightkite_approx/P_null_brightkite_approx,N=1),\\\n",
        "           markevery=0.01, **marker_style_brightkite,label='Brightkite')\n",
        "plt.loglog(distances_log,apply_median(P_data_gowalla_approx/P_null_gowalla_approx,N=1),\\\n",
        "           **marker_style_gowalla,markevery=0.03,label='Gowalla')\n",
        "plt.legend()\n",
        "\n",
        "plt.xlabel('distances (km)')\n",
        "plt.ylabel('Pdata/Pnull')\n",
        "plt.title('Pdata/Pnull as a function of the distance')"
      ],
      "execution_count": null,
      "outputs": [
        {
          "output_type": "execute_result",
          "data": {
            "text/plain": [
              "Text(0.5, 1.0, 'Pdata/Pnull as a function of the distance')"
            ]
          },
          "metadata": {
            "tags": []
          },
          "execution_count": 228
        },
        {
          "output_type": "display_data",
          "data": {
            "image/png": "[encoded data removed]",
            "text/plain": [
              "<Figure size 432x288 with 1 Axes>"
            ]
          },
          "metadata": {
            "tags": [],
            "needs_background": "light"
          }
        }
      ]
    },
    {
      "cell_type": "markdown",
      "metadata": {
        "id": "g5SojkM3jW9l"
      },
      "source": [
        "**Comments on my replication:**\n",
        "- The replication of Pdata is the same as the one in the paper (fig 3a). However, the instructions for Pnull being very unclear, my mode of computing Pnull gave different results as the one found in the paper.\n",
        "- In my results, we see a big augmentation in the fraction Pdata/Pnull until a distance of approximately 80 km. Then, the fraction still increases but with a smaller slope.\n",
        "- This means that the difference a friend makes on a user's movement increases fastly for small distances then increases more slowly.\n"
      ]
    },
    {
      "cell_type": "markdown",
      "metadata": {
        "id": "P47B4lcmi0wz"
      },
      "source": [
        "**Limits of the paper in the replication**:  \n",
        "One limit in the plot is that it doesn't take into account the time of checkin or maybe if the user checked in in the same time as his friend. In fact, we consider someone checked ina friends' house without even checkin if his friend was there. A better approach would have been to use the time of checkins and derive a better approach.\n"
      ]
    },
    {
      "cell_type": "code",
      "metadata": {
        "id": "tA2HjjiIZU3n"
      },
      "source": [
        ""
      ],
      "execution_count": null,
      "outputs": []
    },
    {
      "cell_type": "code",
      "metadata": {
        "id": "pU7WNIaXZUrN"
      },
      "source": [
        ""
      ],
      "execution_count": null,
      "outputs": []
    }
  ]
}